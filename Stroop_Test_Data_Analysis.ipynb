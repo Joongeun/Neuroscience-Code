{
  "nbformat": 4,
  "nbformat_minor": 0,
  "metadata": {
    "colab": {
      "provenance": [],
      "authorship_tag": "ABX9TyMnHGYBtkuA6yYsn6kQhuxJ",
      "include_colab_link": true
    },
    "kernelspec": {
      "name": "python3",
      "display_name": "Python 3"
    },
    "language_info": {
      "name": "python"
    }
  },
  "cells": [
    {
      "cell_type": "markdown",
      "metadata": {
        "id": "view-in-github",
        "colab_type": "text"
      },
      "source": [
        "<a href=\"https://colab.research.google.com/github/Joongeun/Neuroscience-Code/blob/main/Stroop_Test_Data_Analysis.ipynb\" target=\"_parent\"><img src=\"https://colab.research.google.com/assets/colab-badge.svg\" alt=\"Open In Colab\"/></a>"
      ]
    },
    {
      "cell_type": "code",
      "execution_count": null,
      "metadata": {
        "colab": {
          "base_uri": "https://localhost:8080/"
        },
        "id": "1LGUZWu6Td2s",
        "outputId": "3a7aa47a-ea4a-47ad-b6cb-eab7d323a74e"
      },
      "outputs": [
        {
          "output_type": "stream",
          "name": "stdout",
          "text": [
            "Mean:\n",
            " Correct      0.218367\n",
            "Incorrect    0.082653\n",
            "dtype: float64\n",
            "\n",
            "Standard deviation:\n",
            " Correct      0.288439\n",
            "Incorrect    0.199100\n",
            "dtype: float64\n"
          ]
        }
      ],
      "source": [
        "import json\n",
        "import pandas as pd\n",
        "import csv\n",
        "from pprint import pprint\n",
        "import re\n",
        "\n",
        "def deltaT(t1, t2):\n",
        "  return abs(float(t2) - float(t1))\n",
        "\n",
        "posts = []\n",
        "# Takes in csv file with name and contacts on new line --> the code groups the name and phone numbers together into one row\n",
        "with open(\"/content/stroop2txt - stroop2txt.csv\", \"r\", encoding=\"utf-8\") as f:\n",
        "  for ind, i in enumerate(f):\n",
        "    posts.append([j for j in re.split(\"[,]|[,\\n]\", i) if j != ''])\n",
        "    # if ind == 105:\n",
        "    #   break\n",
        "posts[0].append(\"Marks\")\n",
        "df = pd.DataFrame(posts[1:], columns=posts[0])\n",
        "times = list(df['Time'])\n",
        "response = list(df['Response Pad'])\n",
        "correct_response = list(df['Correct Response'])\n",
        "marks = list(df['Marks'])\n",
        "img_ind = []\n",
        "for ind, img in enumerate(marks):\n",
        "  if not img == None:\n",
        "    img_ind.append(ind)\n",
        "\n",
        "correct, incorrect, missed = [], [], []\n",
        "\n",
        "for i in range(1, len(img_ind)-1):\n",
        "  pressed = False\n",
        "  # 2 Consecutive marking indices for images\n",
        "  ind1, ind2 = img_ind[i], img_ind[i+1]\n",
        "  for ind, j in enumerate(df.loc[ind1:ind2+1]['Response Pad']):\n",
        "    if j != \"0\":\n",
        "      t_ind = ind1 + ind\n",
        "      deltat = deltaT(df.loc[ind1]['Time'], df.loc[t_ind]['Time'])\n",
        "      if deltat == 0:\n",
        "        continue\n",
        "      is_correct = False if df.loc[t_ind]['Correct Response'] == \"0\" else True\n",
        "      if is_correct:\n",
        "        # print(f\"Correct; took {deltat:.2f}s\")\n",
        "        correct.append(float(f\"{deltat:.2f}\"))\n",
        "        incorrect.append(0)\n",
        "        missed.append(0)\n",
        "      else:\n",
        "        # print(f\"Incorrect; took {deltat:.2f}s\")\n",
        "        incorrect.append(float(f\"{deltat:.2f}\"))\n",
        "        correct.append(0)\n",
        "        missed.append(0)\n",
        "      pressed = True\n",
        "      break\n",
        "  if not pressed:\n",
        "    # print(\"Missed\")\n",
        "    missed.append(\"MISSED\")\n",
        "    correct.append(0)\n",
        "    incorrect.append(0)\n",
        "results = pd.DataFrame({\"Correct\": correct,\n",
        "                   \"Incorrect\": incorrect,\n",
        "                   \"Missed\": missed})\n",
        "correct = [i for i in correct if i != 0]\n",
        "incorrect = [i for i in incorrect if i != 0]\n",
        "print(\"Mean:\\n\", results[[\"Correct\", \"Incorrect\"]].mean())\n",
        "print()\n",
        "print(\"Standard deviation:\\n\", results[[\"Correct\", \"Incorrect\"]].std())\n",
        "\n",
        "# df.to_csv(\"contacts_csv.csv\")"
      ]
    }
  ]
}